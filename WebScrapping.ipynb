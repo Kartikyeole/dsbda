{
 "cells": [
  {
   "cell_type": "code",
   "execution_count": null,
   "id": "a709d609",
   "metadata": {},
   "outputs": [],
   "source": [
    "import bs4\n",
    "import pandas as pd\n",
    "import requests"
   ]
  },
  {
   "cell_type": "code",
   "execution_count": null,
   "id": "1e2223c4",
   "metadata": {},
   "outputs": [],
   "source": [
    "request1= requests.get(\"https://books.toscrape.com/catalogue/page-2.html\")"
   ]
  },
  {
   "cell_type": "code",
   "execution_count": null,
   "id": "9543ca5a",
   "metadata": {},
   "outputs": [],
   "source": [
    "print(request1)"
   ]
  },
  {
   "cell_type": "code",
   "execution_count": null,
   "id": "cd2986da",
   "metadata": {},
   "outputs": [],
   "source": [
    "soup = bs4.BeautifulSoup(request1.text)"
   ]
  },
  {
   "cell_type": "code",
   "execution_count": null,
   "id": "ebc6a0ce",
   "metadata": {},
   "outputs": [],
   "source": [
    "print(soup)"
   ]
  },
  {
   "cell_type": "code",
   "execution_count": null,
   "id": "382cae93",
   "metadata": {},
   "outputs": [],
   "source": [
    "arti=soup.select('article h3 a' )\n",
    "print(len(arti))"
   ]
  },
  {
   "cell_type": "code",
   "execution_count": null,
   "id": "131e6f55",
   "metadata": {},
   "outputs": [],
   "source": [
    "soup.select('article h3 a')"
   ]
  },
  {
   "cell_type": "code",
   "execution_count": null,
   "id": "5def207a",
   "metadata": {},
   "outputs": [],
   "source": [
    "soup.select('article p i')"
   ]
  },
  {
   "cell_type": "code",
   "execution_count": null,
   "id": "ba47a376",
   "metadata": {},
   "outputs": [],
   "source": [
    "soup.select('article h3 a')[0]['title']\n"
   ]
  },
  {
   "cell_type": "code",
   "execution_count": null,
   "id": "771bc1e8",
   "metadata": {},
   "outputs": [],
   "source": [
    "title_list=[]\n"
   ]
  },
  {
   "cell_type": "code",
   "execution_count": null,
   "id": "abd8c8ae",
   "metadata": {},
   "outputs": [],
   "source": [
    "rating_list=[]\n"
   ]
  },
  {
   "cell_type": "code",
   "execution_count": null,
   "id": "acdd77bf",
   "metadata": {},
   "outputs": [],
   "source": [
    "print(title_list)"
   ]
  },
  {
   "cell_type": "code",
   "execution_count": null,
   "id": "69aefdbe",
   "metadata": {},
   "outputs": [],
   "source": [
    "for num_pages in range(0,51):\n",
    " reqnew= requests.get('https://books.toscrape.com/catalogue/page-2.html')\n",
    " page_req_text= bs4.BeautifulSoup(reqnew.text)\n",
    "\n",
    "for item in page_req_text.select('article h3 a'):\n",
    "    title_list.append(item['title'])\n",
    "\n",
    "for n in range(0,60,3):\n",
    "    rating_list.append(page_req_text.select( 'article p')[n]['class'][1])\n"
   ]
  },
  {
   "cell_type": "code",
   "execution_count": null,
   "id": "492bb667",
   "metadata": {},
   "outputs": [],
   "source": [
    "sl=dict(zip(title_list,rating_list))"
   ]
  },
  {
   "cell_type": "code",
   "execution_count": null,
   "id": "aa54efa4",
   "metadata": {},
   "outputs": [],
   "source": [
    "new=pd.DataFrame.from_dict(sl,orient='index')"
   ]
  },
  {
   "cell_type": "code",
   "execution_count": null,
   "id": "6b78a644",
   "metadata": {},
   "outputs": [],
   "source": [
    "new.to_csv('index.csv')"
   ]
  },
  {
   "cell_type": "code",
   "execution_count": null,
   "id": "a5f0a248",
   "metadata": {},
   "outputs": [],
   "source": [
    "new"
   ]
  },
  {
   "cell_type": "code",
   "execution_count": null,
   "id": "fc45e81f",
   "metadata": {},
   "outputs": [],
   "source": []
  },
  {
   "cell_type": "code",
   "execution_count": null,
   "id": "e4cabed2",
   "metadata": {},
   "outputs": [],
   "source": []
  }
 ],
 "metadata": {
  "kernelspec": {
   "display_name": "Python 3 (ipykernel)",
   "language": "python",
   "name": "python3"
  },
  "language_info": {
   "codemirror_mode": {
    "name": "ipython",
    "version": 3
   },
   "file_extension": ".py",
   "mimetype": "text/x-python",
   "name": "python",
   "nbconvert_exporter": "python",
   "pygments_lexer": "ipython3",
   "version": "3.11.5"
  }
 },
 "nbformat": 4,
 "nbformat_minor": 5
}
