{
 "cells": [
  {
   "cell_type": "code",
   "execution_count": null,
   "id": "a7b1f452",
   "metadata": {},
   "outputs": [],
   "source": [
    "import pandas as pd\n",
    "import numpy as np"
   ]
  },
  {
   "cell_type": "code",
   "execution_count": null,
   "id": "f9cc47e0",
   "metadata": {},
   "outputs": [],
   "source": [
    "df = pd.read_csv('airquality_data.csv', encoding='cp1252')"
   ]
  },
  {
   "cell_type": "code",
   "execution_count": null,
   "id": "901229c6",
   "metadata": {},
   "outputs": [],
   "source": [
    "df.head()"
   ]
  },
  {
   "cell_type": "code",
   "execution_count": null,
   "id": "d554bacd",
   "metadata": {},
   "outputs": [],
   "source": [
    "df.info()"
   ]
  },
  {
   "cell_type": "code",
   "execution_count": null,
   "id": "5373edae",
   "metadata": {},
   "outputs": [],
   "source": [
    "df.columns"
   ]
  },
  {
   "cell_type": "markdown",
   "id": "4b95da78",
   "metadata": {},
   "source": [
    "### Data Cleaning"
   ]
  },
  {
   "cell_type": "code",
   "execution_count": null,
   "id": "3e818589",
   "metadata": {},
   "outputs": [],
   "source": [
    "# Change data type from float64 to float32 for Space Complexity\n",
    "df['so2'] = df['so2'].astype('float32')\n",
    "df['no2'] = df['no2'].astype('float32')\n",
    "df['rspm'] = df['rspm'].astype('float32')\n",
    "df['spm'] = df['spm'].astype('float32')\n",
    "df['date'] = df['date'].astype('string')\n",
    "\n",
    "df.info()"
   ]
  },
  {
   "cell_type": "code",
   "execution_count": null,
   "id": "5eb0c5e4",
   "metadata": {},
   "outputs": [],
   "source": [
    "df=df.drop_duplicates()"
   ]
  },
  {
   "cell_type": "code",
   "execution_count": null,
   "id": "3027f5ea",
   "metadata": {},
   "outputs": [],
   "source": [
    "df.isna().sum()"
   ]
  },
  {
   "cell_type": "code",
   "execution_count": null,
   "id": "e37244d4",
   "metadata": {},
   "outputs": [],
   "source": [
    "percent_missing = df.isnull().sum() * 100 / len(df)"
   ]
  },
  {
   "cell_type": "code",
   "execution_count": null,
   "id": "a873d85d",
   "metadata": {},
   "outputs": [],
   "source": [
    "percent_missing.sort_values(ascending=False)"
   ]
  },
  {
   "cell_type": "code",
   "execution_count": null,
   "id": "a08eb765",
   "metadata": {},
   "outputs": [],
   "source": [
    "df=df.drop(['stn_code', 'agency','sampling_date','location_monitoring_station','pm2_5'], axis = 1)"
   ]
  },
  {
   "cell_type": "code",
   "execution_count": null,
   "id": "fe00eb66",
   "metadata": {},
   "outputs": [],
   "source": [
    "df.head()"
   ]
  },
  {
   "cell_type": "code",
   "execution_count": null,
   "id": "e498f0c9",
   "metadata": {},
   "outputs": [],
   "source": [
    "df.columns"
   ]
  },
  {
   "cell_type": "code",
   "execution_count": null,
   "id": "59b5d9a7",
   "metadata": {},
   "outputs": [],
   "source": [
    "col_var = ['state', 'location', 'type','date']\n",
    "col_num = ['so2','no2','rspm','spm']"
   ]
  },
  {
   "cell_type": "code",
   "execution_count": null,
   "id": "7c3d6ba4",
   "metadata": {},
   "outputs": [],
   "source": [
    "for col in df.columns:\n",
    "    if df[col].dtype == 'object' or df[col].dtype == 'string':\n",
    "        df[col] = df[col].fillna(df[col].mode()[0])\n",
    "    else:\n",
    "        df[col] = df[col].fillna(df[col].mean())"
   ]
  },
  {
   "cell_type": "code",
   "execution_count": null,
   "id": "1d4d912d",
   "metadata": {},
   "outputs": [],
   "source": [
    "df.isna().sum()"
   ]
  },
  {
   "cell_type": "code",
   "execution_count": null,
   "id": "654ca668",
   "metadata": {},
   "outputs": [],
   "source": [
    "df"
   ]
  },
  {
   "cell_type": "code",
   "execution_count": null,
   "id": "545753bd",
   "metadata": {},
   "outputs": [],
   "source": [
    "df.isna().sum()"
   ]
  },
  {
   "cell_type": "markdown",
   "id": "e522a21b",
   "metadata": {},
   "source": [
    "\n",
    "# Data integration"
   ]
  },
  {
   "cell_type": "code",
   "execution_count": null,
   "id": "5a17ec5a",
   "metadata": {},
   "outputs": [],
   "source": [
    "subSet1 = df[['state', 'type']]\n",
    "subSet2 = df[['state','location']]"
   ]
  },
  {
   "cell_type": "code",
   "execution_count": null,
   "id": "49368e67",
   "metadata": {},
   "outputs": [],
   "source": [
    "subSet1.head()"
   ]
  },
  {
   "cell_type": "code",
   "execution_count": null,
   "id": "71699203",
   "metadata": {},
   "outputs": [],
   "source": [
    "subSet2.head()"
   ]
  },
  {
   "cell_type": "code",
   "execution_count": null,
   "id": "3a56045d",
   "metadata": {},
   "outputs": [],
   "source": [
    "concatenated_df = pd.concat([subSet1, subSet2], axis=1)"
   ]
  },
  {
   "cell_type": "code",
   "execution_count": null,
   "id": "49ebb013",
   "metadata": {},
   "outputs": [],
   "source": [
    "concatenated_df"
   ]
  },
  {
   "cell_type": "markdown",
   "id": "f7cc82bb",
   "metadata": {},
   "source": [
    "### Error Correcting"
   ]
  },
  {
   "cell_type": "code",
   "execution_count": null,
   "id": "f853eda6",
   "metadata": {},
   "outputs": [],
   "source": [
    "def remove_outliers(column):\n",
    "    Q1 = column.quantile(0.25)\n",
    "    Q3 = column.quantile(0.75)\n",
    "    IQR = Q3 - Q1\n",
    "    threshold = 1.5 * IQR\n",
    "    outlier_mask = (column < Q1 - threshold) | (column > Q3 + threshold)\n",
    "    return column[~outlier_mask]"
   ]
  },
  {
   "cell_type": "code",
   "execution_count": null,
   "id": "b7f69c40",
   "metadata": {},
   "outputs": [],
   "source": [
    "df.columns"
   ]
  },
  {
   "cell_type": "code",
   "execution_count": null,
   "id": "2ed9106a",
   "metadata": {},
   "outputs": [],
   "source": [
    "# Remove outliers for each column using a loop\n",
    "col_name = ['so2', 'no2', 'rspm', 'spm']\n",
    "for col in col_name:\n",
    "    df[col] = remove_outliers(df[col])"
   ]
  },
  {
   "cell_type": "code",
   "execution_count": null,
   "id": "ded044e3",
   "metadata": {},
   "outputs": [],
   "source": [
    "import seaborn as sns\n",
    "import matplotlib.pyplot as plt"
   ]
  },
  {
   "cell_type": "code",
   "execution_count": null,
   "id": "41e0027f",
   "metadata": {},
   "outputs": [],
   "source": [
    "plt.figure(figsize=(10, 6))  # Adjust the figure size if needed\n",
    "\n",
    "for col in col_name:\n",
    "    sns.boxplot(data=df[col])\n",
    "    plt.title(col)\n",
    "    plt.show()"
   ]
  },
  {
   "cell_type": "markdown",
   "id": "45f8a4b5",
   "metadata": {},
   "source": [
    "## Data Transform"
   ]
  },
  {
   "cell_type": "code",
   "execution_count": null,
   "id": "e8e83edc",
   "metadata": {},
   "outputs": [],
   "source": [
    "from sklearn.preprocessing import LabelEncoder\n",
    "\n",
    "col_label= ['state','location','type']\n",
    "# Initialize LabelEncoder\n",
    "\n",
    "encoder = LabelEncoder()\n",
    "# Iterate over columns\n",
    "for col in df.columns:\n",
    "        # Fit and transform the column\n",
    "        df[col] = encoder.fit_transform(df[col])"
   ]
  },
  {
   "cell_type": "code",
   "execution_count": null,
   "id": "06778a90",
   "metadata": {},
   "outputs": [],
   "source": [
    "df"
   ]
  },
  {
   "cell_type": "code",
   "execution_count": null,
   "id": "df5af7b8",
   "metadata": {},
   "outputs": [],
   "source": []
  }
 ],
 "metadata": {
  "kernelspec": {
   "display_name": "Python 3 (ipykernel)",
   "language": "python",
   "name": "python3"
  },
  "language_info": {
   "codemirror_mode": {
    "name": "ipython",
    "version": 3
   },
   "file_extension": ".py",
   "mimetype": "text/x-python",
   "name": "python",
   "nbconvert_exporter": "python",
   "pygments_lexer": "ipython3",
   "version": "3.11.5"
  }
 },
 "nbformat": 4,
 "nbformat_minor": 5
}
